{
  "nbformat": 4,
  "nbformat_minor": 0,
  "metadata": {
    "colab": {
      "name": "Untitled0.ipynb",
      "provenance": [],
      "authorship_tag": "ABX9TyNDGHpeeyxNdH0xh3OYI2B4",
      "include_colab_link": true
    },
    "kernelspec": {
      "name": "python3",
      "display_name": "Python 3"
    },
    "language_info": {
      "name": "python"
    }
  },
  "cells": [
    {
      "cell_type": "markdown",
      "metadata": {
        "id": "view-in-github",
        "colab_type": "text"
      },
      "source": [
        "<a href=\"https://colab.research.google.com/github/Kushagra-1/Extract-prices-to-csv/blob/main/main.ipynb\" target=\"_parent\"><img src=\"https://colab.research.google.com/assets/colab-badge.svg\" alt=\"Open In Colab\"/></a>"
      ]
    },
    {
      "cell_type": "code",
      "metadata": {
        "id": "x3B6tNcdIFze"
      },
      "source": [
        "import pandas as pd\n",
        "import requests\n",
        "import json\n",
        "\n",
        "def fetch_daily_data(symbol):\n",
        "    pair_split = symbol.split('/')  # symbol must be in format XXX/XXX ie. BTC/EUR\n",
        "    symbol = pair_split[0] + '-' + pair_split[1]\n",
        "    url = f'https://api.pro.coinbase.com/products/{symbol}/candles?granularity=86400'\n",
        "    response = requests.get(url)\n",
        "    if response.status_code == 200:  # check to make sure the response from server is good\n",
        "        data = pd.DataFrame(json.loads(response.text), columns=['unix', 'low', 'high', 'open', 'close', 'volume'])\n",
        "        data['date'] = pd.to_datetime(data['unix'], unit='s')  # convert to a readable date\n",
        "        data['vol_fiat'] = data['volume'] * data['close']      # multiply the BTC volume by closing price to approximate fiat volume\n",
        "\n",
        "        # if we failed to get any data, print an error...otherwise write the file\n",
        "        if data is None:\n",
        "            print(\"Did not return any data from Coinbase for this symbol\")\n",
        "        else:\n",
        "            data.to_csv(f'Coinbase_{pair_split[0] + pair_split[1]}_dailydata.csv', index=False)\n",
        "\n",
        "    else:\n",
        "        print(\"Did not receieve OK response from Coinbase API\")\n",
        "\n",
        "\n",
        "if __name__ == \"__main__\":\n",
        "    # we set which pair we want to retrieve data for\n",
        "    pair = \"ETH/USD\"\n",
        "    fetch_daily_data(symbol=pair)"
      ],
      "execution_count": 1,
      "outputs": []
    },
    {
      "cell_type": "code",
      "metadata": {
        "colab": {
          "base_uri": "https://localhost:8080/",
          "height": 203
        },
        "id": "yDS2uziYIGT4",
        "outputId": "dd60be17-f203-4f17-9143-3f5f4aa754cc"
      },
      "source": [
        "df = pd.read_csv('/content/Coinbase_ETHUSD_dailydata.csv')\n",
        "df.head()"
      ],
      "execution_count": 2,
      "outputs": [
        {
          "output_type": "execute_result",
          "data": {
            "text/html": [
              "<div>\n",
              "<style scoped>\n",
              "    .dataframe tbody tr th:only-of-type {\n",
              "        vertical-align: middle;\n",
              "    }\n",
              "\n",
              "    .dataframe tbody tr th {\n",
              "        vertical-align: top;\n",
              "    }\n",
              "\n",
              "    .dataframe thead th {\n",
              "        text-align: right;\n",
              "    }\n",
              "</style>\n",
              "<table border=\"1\" class=\"dataframe\">\n",
              "  <thead>\n",
              "    <tr style=\"text-align: right;\">\n",
              "      <th></th>\n",
              "      <th>unix</th>\n",
              "      <th>low</th>\n",
              "      <th>high</th>\n",
              "      <th>open</th>\n",
              "      <th>close</th>\n",
              "      <th>volume</th>\n",
              "      <th>date</th>\n",
              "      <th>vol_fiat</th>\n",
              "    </tr>\n",
              "  </thead>\n",
              "  <tbody>\n",
              "    <tr>\n",
              "      <th>0</th>\n",
              "      <td>1633392000</td>\n",
              "      <td>3365.34</td>\n",
              "      <td>3476.03</td>\n",
              "      <td>3386.90</td>\n",
              "      <td>3424.72</td>\n",
              "      <td>84574.930123</td>\n",
              "      <td>2021-10-05</td>\n",
              "      <td>2.896455e+08</td>\n",
              "    </tr>\n",
              "    <tr>\n",
              "      <th>1</th>\n",
              "      <td>1633305600</td>\n",
              "      <td>3269.67</td>\n",
              "      <td>3438.91</td>\n",
              "      <td>3419.63</td>\n",
              "      <td>3387.20</td>\n",
              "      <td>163829.626778</td>\n",
              "      <td>2021-10-04</td>\n",
              "      <td>5.549237e+08</td>\n",
              "    </tr>\n",
              "    <tr>\n",
              "      <th>2</th>\n",
              "      <td>1633219200</td>\n",
              "      <td>3343.36</td>\n",
              "      <td>3489.18</td>\n",
              "      <td>3388.67</td>\n",
              "      <td>3420.07</td>\n",
              "      <td>124271.048646</td>\n",
              "      <td>2021-10-03</td>\n",
              "      <td>4.250157e+08</td>\n",
              "    </tr>\n",
              "    <tr>\n",
              "      <th>3</th>\n",
              "      <td>1633132800</td>\n",
              "      <td>3258.94</td>\n",
              "      <td>3469.95</td>\n",
              "      <td>3311.20</td>\n",
              "      <td>3387.82</td>\n",
              "      <td>144778.384500</td>\n",
              "      <td>2021-10-02</td>\n",
              "      <td>4.904831e+08</td>\n",
              "    </tr>\n",
              "    <tr>\n",
              "      <th>4</th>\n",
              "      <td>1633046400</td>\n",
              "      <td>2967.41</td>\n",
              "      <td>3337.15</td>\n",
              "      <td>3001.14</td>\n",
              "      <td>3311.16</td>\n",
              "      <td>201035.513451</td>\n",
              "      <td>2021-10-01</td>\n",
              "      <td>6.656608e+08</td>\n",
              "    </tr>\n",
              "  </tbody>\n",
              "</table>\n",
              "</div>"
            ],
            "text/plain": [
              "         unix      low     high  ...         volume        date      vol_fiat\n",
              "0  1633392000  3365.34  3476.03  ...   84574.930123  2021-10-05  2.896455e+08\n",
              "1  1633305600  3269.67  3438.91  ...  163829.626778  2021-10-04  5.549237e+08\n",
              "2  1633219200  3343.36  3489.18  ...  124271.048646  2021-10-03  4.250157e+08\n",
              "3  1633132800  3258.94  3469.95  ...  144778.384500  2021-10-02  4.904831e+08\n",
              "4  1633046400  2967.41  3337.15  ...  201035.513451  2021-10-01  6.656608e+08\n",
              "\n",
              "[5 rows x 8 columns]"
            ]
          },
          "metadata": {},
          "execution_count": 2
        }
      ]
    },
    {
      "cell_type": "code",
      "metadata": {
        "id": "pDlqoqT2IIh0"
      },
      "source": [
        ""
      ],
      "execution_count": null,
      "outputs": []
    }
  ]
}